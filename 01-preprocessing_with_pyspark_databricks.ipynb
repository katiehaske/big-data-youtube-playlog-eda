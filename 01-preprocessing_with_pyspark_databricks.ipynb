{
 "cells": [
  {
   "cell_type": "markdown",
   "metadata": {
    "application/vnd.databricks.v1+cell": {
     "inputWidgets": {},
     "nuid": "65ed76ee-19d5-4188-a1f2-4a33779424b5",
     "showTitle": false,
     "title": ""
    },
    "id": "u85SaqX4zM-O"
   },
   "source": [
    "# Preprocessing"
   ]
  },
  {
   "cell_type": "markdown",
   "metadata": {
    "application/vnd.databricks.v1+cell": {
     "inputWidgets": {},
     "nuid": "ac269979-ab43-4fdf-932d-2a4235410337",
     "showTitle": false,
     "title": ""
    },
    "id": "wos_vf6YzM-T"
   },
   "source": [
    "## Loading our data from S3"
   ]
  },
  {
   "cell_type": "code",
   "execution_count": null,
   "metadata": {
    "application/vnd.databricks.v1+cell": {
     "inputWidgets": {},
     "nuid": "f7269adc-4d0e-4c38-bd3b-1f1f3c09afc4",
     "showTitle": false,
     "title": ""
    },
    "id": "cuOgrRR5zM-T",
    "outputId": "ea177849-3001-4040-e479-226b6095110a"
   },
   "outputs": [
    {
     "data": {
      "text/html": [
       "<style scoped>\n",
       "  .ansiout {\n",
       "    display: block;\n",
       "    unicode-bidi: embed;\n",
       "    white-space: pre-wrap;\n",
       "    word-wrap: break-word;\n",
       "    word-break: break-all;\n",
       "    font-family: \"Source Code Pro\", \"Menlo\", monospace;;\n",
       "    font-size: 13px;\n",
       "    color: #555;\n",
       "    margin-left: 4px;\n",
       "    line-height: 19px;\n",
       "  }\n",
       "</style>\n",
       "<div class=\"ansiout\"></div>"
      ]
     },
     "metadata": {
      "application/vnd.databricks.v1+output": {
       "addedWidgets": {},
       "arguments": {},
       "data": "<div class=\"ansiout\"></div>",
       "datasetInfos": [],
       "removedWidgets": [],
       "type": "html"
      },
      "tags": []
     },
     "output_type": "display_data"
    }
   ],
   "source": [
    "from pyspark.sql import functions as F"
   ]
  },
  {
   "cell_type": "code",
   "execution_count": null,
   "metadata": {
    "application/vnd.databricks.v1+cell": {
     "inputWidgets": {},
     "nuid": "70a0e58a-df30-4fff-a007-f77c06c41d4c",
     "showTitle": false,
     "title": ""
    },
    "id": "2gtp3fSQzM-V",
    "outputId": "3fc0a9b7-77a3-464a-82fe-cbc31495a9bc"
   },
   "outputs": [
    {
     "data": {
      "text/html": [
       "<style scoped>\n",
       "  .ansiout {\n",
       "    display: block;\n",
       "    unicode-bidi: embed;\n",
       "    white-space: pre-wrap;\n",
       "    word-wrap: break-word;\n",
       "    word-break: break-all;\n",
       "    font-family: \"Source Code Pro\", \"Menlo\", monospace;;\n",
       "    font-size: 13px;\n",
       "    color: #555;\n",
       "    margin-left: 4px;\n",
       "    line-height: 19px;\n",
       "  }\n",
       "</style>\n",
       "<div class=\"ansiout\"></div>"
      ]
     },
     "metadata": {
      "application/vnd.databricks.v1+output": {
       "addedWidgets": {},
       "arguments": {},
       "data": "<div class=\"ansiout\"></div>",
       "datasetInfos": [],
       "removedWidgets": [],
       "type": "html"
      },
      "tags": []
     },
     "output_type": "display_data"
    }
   ],
   "source": [
    "filepath = \"s3://full-stack-bigdata-datasets/Big_Data/youtube_playlog.csv\"\n",
    "ACCESS_KEY_ID = \" \" # cle du compte student\n",
    "SECRET_ACCESS_KEY = \" \" # secret key du compte student\n",
    "\n",
    "hadoop_conf = spark._jsc.hadoopConfiguration()\n",
    "hadoop_conf.set(\"fs.s3a.access.key\", ACCESS_KEY_ID)\n",
    "hadoop_conf.set(\"fs.s3a.secret.key\", SECRET_ACCESS_KEY)\n",
    "hadoop_conf.set(\"fs.s3a.impl\",\"org.apache.hadoop.fs.s3a.S3AFileSystem\")"
   ]
  },
  {
   "cell_type": "code",
   "execution_count": null,
   "metadata": {
    "application/vnd.databricks.v1+cell": {
     "inputWidgets": {},
     "nuid": "4e982ff3-01de-40f5-b0f8-021572e2ef87",
     "showTitle": false,
     "title": ""
    },
    "id": "7C6C9hllzM-W",
    "outputId": "ff23ad89-83fc-4e2b-fd6c-c0136831fde1"
   },
   "outputs": [
    {
     "data": {
      "text/html": [
       "<style scoped>\n",
       "  .ansiout {\n",
       "    display: block;\n",
       "    unicode-bidi: embed;\n",
       "    white-space: pre-wrap;\n",
       "    word-wrap: break-word;\n",
       "    word-break: break-all;\n",
       "    font-family: \"Source Code Pro\", \"Menlo\", monospace;;\n",
       "    font-size: 13px;\n",
       "    color: #555;\n",
       "    margin-left: 4px;\n",
       "    line-height: 19px;\n",
       "  }\n",
       "</style>\n",
       "<div class=\"ansiout\">+----------+----+-----------+\n",
       " timestamp|user|       song|\n",
       "+----------+----+-----------+\n",
       "1392387533|   0|t1l8Z6gLPzo|\n",
       "1392387538|   1|t1l8Z6gLPzo|\n",
       "1392387556|   2|t1l8Z6gLPzo|\n",
       "1392387561|   3|we5gzZq5Avg|\n",
       "1392387566|   4|we5gzZq5Avg|\n",
       "+----------+----+-----------+\n",
       "only showing top 5 rows\n",
       "\n",
       "</div>"
      ]
     },
     "metadata": {
      "application/vnd.databricks.v1+output": {
       "addedWidgets": {},
       "arguments": {},
       "data": "<div class=\"ansiout\">+----------+----+-----------+\n| timestamp|user|       song|\n+----------+----+-----------+\n|1392387533|   0|t1l8Z6gLPzo|\n|1392387538|   1|t1l8Z6gLPzo|\n|1392387556|   2|t1l8Z6gLPzo|\n|1392387561|   3|we5gzZq5Avg|\n|1392387566|   4|we5gzZq5Avg|\n+----------+----+-----------+\nonly showing top 5 rows\n\n</div>",
       "datasetInfos": [],
       "removedWidgets": [],
       "type": "html"
      },
      "tags": []
     },
     "output_type": "display_data"
    }
   ],
   "source": [
    "#load data into PySpark DataFrame: `playlog`\n",
    "### BEGIN STRIP ###\n",
    "playlog = (spark.read.format('csv')\\\n",
    "             .option('header', 'true')\\\n",
    "             .option('inferSchema', 'true')\\\n",
    "             .load(filepath))\n",
    "### END STRIP ###\n",
    "playlog.show(5)"
   ]
  },
  {
   "cell_type": "markdown",
   "metadata": {
    "application/vnd.databricks.v1+cell": {
     "inputWidgets": {},
     "nuid": "c31bdb53-aab6-4417-8f22-2efc6221f1af",
     "showTitle": false,
     "title": ""
    },
    "id": "_KTzHVLNzM-X"
   },
   "source": [
    "## First analysis"
   ]
  },
  {
   "cell_type": "code",
   "execution_count": null,
   "metadata": {
    "application/vnd.databricks.v1+cell": {
     "inputWidgets": {},
     "nuid": "750b89fa-1b51-4f04-bc28-91dccb78a333",
     "showTitle": false,
     "title": ""
    },
    "id": "Ked3HN_wzM-X",
    "outputId": "ae2448ab-44dd-4ac1-979d-388fc4cb510f"
   },
   "outputs": [
    {
     "data": {
      "text/html": [
       "<style scoped>\n",
       "  .ansiout {\n",
       "    display: block;\n",
       "    unicode-bidi: embed;\n",
       "    white-space: pre-wrap;\n",
       "    word-wrap: break-word;\n",
       "    word-break: break-all;\n",
       "    font-family: \"Source Code Pro\", \"Menlo\", monospace;;\n",
       "    font-size: 13px;\n",
       "    color: #555;\n",
       "    margin-left: 4px;\n",
       "    line-height: 19px;\n",
       "  }\n",
       "</style>\n",
       "<div class=\"ansiout\">root\n",
       "-- timestamp: integer (nullable = true)\n",
       "-- user: integer (nullable = true)\n",
       "-- song: string (nullable = true)\n",
       "\n",
       "</div>"
      ]
     },
     "metadata": {
      "application/vnd.databricks.v1+output": {
       "addedWidgets": {},
       "arguments": {},
       "data": "<div class=\"ansiout\">root\n |-- timestamp: integer (nullable = true)\n |-- user: integer (nullable = true)\n |-- song: string (nullable = true)\n\n</div>",
       "datasetInfos": [],
       "removedWidgets": [],
       "type": "html"
      },
      "tags": []
     },
     "output_type": "display_data"
    }
   ],
   "source": [
    "#print out our DataFrame's schema\n",
    "### BEGIN STRIP ###\n",
    "playlog.printSchema()\n",
    "### END STRIP ###"
   ]
  },
  {
   "cell_type": "code",
   "execution_count": null,
   "metadata": {
    "application/vnd.databricks.v1+cell": {
     "inputWidgets": {},
     "nuid": "dd18ab11-66cb-441c-a810-543211ee2cef",
     "showTitle": false,
     "title": ""
    },
    "id": "s4DUKdZazM-X",
    "outputId": "bb5140c0-5ed3-4936-b6e2-71d7c8f60aa1"
   },
   "outputs": [
    {
     "data": {
      "text/html": [
       "<style scoped>\n",
       "  .ansiout {\n",
       "    display: block;\n",
       "    unicode-bidi: embed;\n",
       "    white-space: pre-wrap;\n",
       "    word-wrap: break-word;\n",
       "    word-break: break-all;\n",
       "    font-family: \"Source Code Pro\", \"Menlo\", monospace;;\n",
       "    font-size: 13px;\n",
       "    color: #555;\n",
       "    margin-left: 4px;\n",
       "    line-height: 19px;\n",
       "  }\n",
       "</style>\n",
       "<div class=\"ansiout\">Out[5]: </div>"
      ]
     },
     "metadata": {
      "application/vnd.databricks.v1+output": {
       "addedWidgets": {},
       "arguments": {},
       "data": "<div class=\"ansiout\">Out[5]: </div>",
       "datasetInfos": [],
       "removedWidgets": [],
       "type": "html"
      },
      "tags": []
     },
     "output_type": "display_data"
    },
    {
     "data": {
      "text/html": [
       "<div>\n",
       "<style scoped>\n",
       "    .dataframe tbody tr th:only-of-type {\n",
       "        vertical-align: middle;\n",
       "    }\n",
       "\n",
       "    .dataframe tbody tr th {\n",
       "        vertical-align: top;\n",
       "    }\n",
       "\n",
       "    .dataframe thead th {\n",
       "        text-align: right;\n",
       "    }\n",
       "</style>\n",
       "<table border=\"1\" class=\"dataframe\">\n",
       "  <thead>\n",
       "    <tr style=\"text-align: right;\">\n",
       "      <th></th>\n",
       "      <th>summary</th>\n",
       "      <th>timestamp</th>\n",
       "      <th>user</th>\n",
       "      <th>song</th>\n",
       "    </tr>\n",
       "  </thead>\n",
       "  <tbody>\n",
       "    <tr>\n",
       "      <th>0</th>\n",
       "      <td>count</td>\n",
       "      <td>25739537</td>\n",
       "      <td>25739537</td>\n",
       "      <td>25739537</td>\n",
       "    </tr>\n",
       "    <tr>\n",
       "      <th>1</th>\n",
       "      <td>mean</td>\n",
       "      <td>1.4427006561045842E9</td>\n",
       "      <td>12697.352275450798</td>\n",
       "      <td>2.532571778181818E8</td>\n",
       "    </tr>\n",
       "    <tr>\n",
       "      <th>2</th>\n",
       "      <td>stddev</td>\n",
       "      <td>3.443284872371195E7</td>\n",
       "      <td>13094.065905828476</td>\n",
       "      <td>8.334645614940468E8</td>\n",
       "    </tr>\n",
       "    <tr>\n",
       "      <th>3</th>\n",
       "      <td>min</td>\n",
       "      <td>-139955897</td>\n",
       "      <td>0</td>\n",
       "      <td>---AtpxbkaE</td>\n",
       "    </tr>\n",
       "    <tr>\n",
       "      <th>4</th>\n",
       "      <td>max</td>\n",
       "      <td>1554321113</td>\n",
       "      <td>45903</td>\n",
       "      <td>zzzcFgRMY6c</td>\n",
       "    </tr>\n",
       "  </tbody>\n",
       "</table>\n",
       "</div>"
      ]
     },
     "metadata": {
      "application/vnd.databricks.v1+output": {
       "addedWidgets": {},
       "arguments": {},
       "data": "<div>\n<style scoped>\n    .dataframe tbody tr th:only-of-type {\n        vertical-align: middle;\n    }\n\n    .dataframe tbody tr th {\n        vertical-align: top;\n    }\n\n    .dataframe thead th {\n        text-align: right;\n    }\n</style>\n<table border=\"1\" class=\"dataframe\">\n  <thead>\n    <tr style=\"text-align: right;\">\n      <th></th>\n      <th>summary</th>\n      <th>timestamp</th>\n      <th>user</th>\n      <th>song</th>\n    </tr>\n  </thead>\n  <tbody>\n    <tr>\n      <th>0</th>\n      <td>count</td>\n      <td>25739537</td>\n      <td>25739537</td>\n      <td>25739537</td>\n    </tr>\n    <tr>\n      <th>1</th>\n      <td>mean</td>\n      <td>1.4427006561045842E9</td>\n      <td>12697.352275450798</td>\n      <td>2.532571778181818E8</td>\n    </tr>\n    <tr>\n      <th>2</th>\n      <td>stddev</td>\n      <td>3.443284872371195E7</td>\n      <td>13094.065905828476</td>\n      <td>8.334645614940468E8</td>\n    </tr>\n    <tr>\n      <th>3</th>\n      <td>min</td>\n      <td>-139955897</td>\n      <td>0</td>\n      <td>---AtpxbkaE</td>\n    </tr>\n    <tr>\n      <th>4</th>\n      <td>max</td>\n      <td>1554321113</td>\n      <td>45903</td>\n      <td>zzzcFgRMY6c</td>\n    </tr>\n  </tbody>\n</table>\n</div>",
       "datasetInfos": [],
       "removedWidgets": [],
       "textData": null,
       "type": "htmlSandbox"
      },
      "tags": []
     },
     "output_type": "display_data"
    }
   ],
   "source": [
    "#use `.describe(...)` on DataFrame\n",
    "### BEGIN STRIP ###\n",
    "playlog.describe().toPandas()\n",
    "### END STRIP ###"
   ]
  },
  {
   "cell_type": "markdown",
   "metadata": {
    "application/vnd.databricks.v1+cell": {
     "inputWidgets": {},
     "nuid": "f1fd02d6-ca1d-436b-b95f-45d4fcb75534",
     "showTitle": false,
     "title": ""
    },
    "id": "ZNiMqO2XzM-Z"
   },
   "source": [
    "### Missing values check"
   ]
  },
  {
   "cell_type": "code",
   "execution_count": null,
   "metadata": {
    "application/vnd.databricks.v1+cell": {
     "inputWidgets": {},
     "nuid": "2697f01c-57f9-4593-abd2-fb1452b24679",
     "showTitle": false,
     "title": ""
    },
    "id": "dGDX_VVnzM-Z",
    "outputId": "b9419747-9079-4a59-d846-4fa4fa531b96"
   },
   "outputs": [
    {
     "data": {
      "text/html": [
       "<style scoped>\n",
       "  .ansiout {\n",
       "    display: block;\n",
       "    unicode-bidi: embed;\n",
       "    white-space: pre-wrap;\n",
       "    word-wrap: break-word;\n",
       "    word-break: break-all;\n",
       "    font-family: \"Source Code Pro\", \"Menlo\", monospace;;\n",
       "    font-size: 13px;\n",
       "    color: #555;\n",
       "    margin-left: 4px;\n",
       "    line-height: 19px;\n",
       "  }\n",
       "</style>\n",
       "<div class=\"ansiout\">Out[6]: </div>"
      ]
     },
     "metadata": {
      "application/vnd.databricks.v1+output": {
       "addedWidgets": {},
       "arguments": {},
       "data": "<div class=\"ansiout\">Out[6]: </div>",
       "datasetInfos": [],
       "removedWidgets": [],
       "type": "html"
      },
      "tags": []
     },
     "output_type": "display_data"
    },
    {
     "data": {
      "text/html": [
       "<div>\n",
       "<style scoped>\n",
       "    .dataframe tbody tr th:only-of-type {\n",
       "        vertical-align: middle;\n",
       "    }\n",
       "\n",
       "    .dataframe tbody tr th {\n",
       "        vertical-align: top;\n",
       "    }\n",
       "\n",
       "    .dataframe thead th {\n",
       "        text-align: right;\n",
       "    }\n",
       "</style>\n",
       "<table border=\"1\" class=\"dataframe\">\n",
       "  <thead>\n",
       "    <tr style=\"text-align: right;\">\n",
       "      <th></th>\n",
       "      <th>timestamp</th>\n",
       "      <th>user</th>\n",
       "      <th>song</th>\n",
       "    </tr>\n",
       "  </thead>\n",
       "  <tbody>\n",
       "    <tr>\n",
       "      <th>missing values</th>\n",
       "      <td>0</td>\n",
       "      <td>0</td>\n",
       "      <td>0</td>\n",
       "    </tr>\n",
       "  </tbody>\n",
       "</table>\n",
       "</div>"
      ]
     },
     "metadata": {
      "application/vnd.databricks.v1+output": {
       "addedWidgets": {},
       "arguments": {},
       "data": "<div>\n<style scoped>\n    .dataframe tbody tr th:only-of-type {\n        vertical-align: middle;\n    }\n\n    .dataframe tbody tr th {\n        vertical-align: top;\n    }\n\n    .dataframe thead th {\n        text-align: right;\n    }\n</style>\n<table border=\"1\" class=\"dataframe\">\n  <thead>\n    <tr style=\"text-align: right;\">\n      <th></th>\n      <th>timestamp</th>\n      <th>user</th>\n      <th>song</th>\n    </tr>\n  </thead>\n  <tbody>\n    <tr>\n      <th>missing values</th>\n      <td>0</td>\n      <td>0</td>\n      <td>0</td>\n    </tr>\n  </tbody>\n</table>\n</div>",
       "datasetInfos": [],
       "removedWidgets": [],
       "textData": null,
       "type": "htmlSandbox"
      },
      "tags": []
     },
     "output_type": "display_data"
    }
   ],
   "source": [
    "#count the missing values for each column\n",
    "#put the result in a pandas DataFrame and print it out\n",
    "### BEGIN STRIP ###\n",
    "import pandas as pd\n",
    "\n",
    "pd.DataFrame.from_dict(\n",
    "  {c: playlog.filter(playlog[c].isNull()).count() for c in playlog.columns},\n",
    "  orient='index', columns=['missing values']\n",
    ").T\n",
    "### END STRIP ###"
   ]
  },
  {
   "cell_type": "markdown",
   "metadata": {
    "application/vnd.databricks.v1+cell": {
     "inputWidgets": {},
     "nuid": "7108769f-37d7-4210-bb87-ca2ddf6a0f7c",
     "showTitle": false,
     "title": ""
    },
    "id": "KPWfK38zzM-Z"
   },
   "source": [
    "### Duplicates check"
   ]
  },
  {
   "cell_type": "code",
   "execution_count": null,
   "metadata": {
    "application/vnd.databricks.v1+cell": {
     "inputWidgets": {},
     "nuid": "e59cbf7a-aa17-4798-9e74-c90db346fc33",
     "showTitle": false,
     "title": ""
    },
    "id": "zEMO-ugWzM-a",
    "outputId": "d1aab4f2-8c59-462b-edbc-262cffc23f29"
   },
   "outputs": [
    {
     "data": {
      "text/html": [
       "<style scoped>\n",
       "  .ansiout {\n",
       "    display: block;\n",
       "    unicode-bidi: embed;\n",
       "    white-space: pre-wrap;\n",
       "    word-wrap: break-word;\n",
       "    word-break: break-all;\n",
       "    font-family: \"Source Code Pro\", \"Menlo\", monospace;;\n",
       "    font-size: 13px;\n",
       "    color: #555;\n",
       "    margin-left: 4px;\n",
       "    line-height: 19px;\n",
       "  }\n",
       "</style>\n",
       "<div class=\"ansiout\">Out[13]: False</div>"
      ]
     },
     "metadata": {
      "application/vnd.databricks.v1+output": {
       "addedWidgets": {},
       "arguments": {},
       "data": "<div class=\"ansiout\">Out[13]: False</div>",
       "datasetInfos": [],
       "removedWidgets": [],
       "type": "html"
      },
      "tags": []
     },
     "output_type": "display_data"
    }
   ],
   "source": [
    "# TODO: check if playlog without duplicates has the same number of rows as the original\n",
    "### BEGIN STRIP ###\n",
    "playlog.count() == playlog.dropDuplicates().count()\n",
    "### END STRIP ###"
   ]
  },
  {
   "cell_type": "code",
   "execution_count": null,
   "metadata": {
    "application/vnd.databricks.v1+cell": {
     "inputWidgets": {},
     "nuid": "58246f8e-ac6e-4018-9ccd-1543fc8a6571",
     "showTitle": false,
     "title": ""
    },
    "id": "pN5J1gKYzM-b",
    "outputId": "214fb458-6a9f-4f10-d65d-95d6bd022620"
   },
   "outputs": [
    {
     "data": {
      "text/html": [
       "<style scoped>\n",
       "  .ansiout {\n",
       "    display: block;\n",
       "    unicode-bidi: embed;\n",
       "    white-space: pre-wrap;\n",
       "    word-wrap: break-word;\n",
       "    word-break: break-all;\n",
       "    font-family: \"Source Code Pro\", \"Menlo\", monospace;;\n",
       "    font-size: 13px;\n",
       "    color: #555;\n",
       "    margin-left: 4px;\n",
       "    line-height: 19px;\n",
       "  }\n",
       "</style>\n",
       "<div class=\"ansiout\">Out[14]: 123651</div>"
      ]
     },
     "metadata": {
      "application/vnd.databricks.v1+output": {
       "addedWidgets": {},
       "arguments": {},
       "data": "<div class=\"ansiout\">Out[14]: 123651</div>",
       "datasetInfos": [],
       "removedWidgets": [],
       "type": "html"
      },
      "tags": []
     },
     "output_type": "display_data"
    }
   ],
   "source": [
    "#count the number of duplicates\n",
    "### BEGIN STRIP ###\n",
    "(playlog.count() - playlog.dropDuplicates().count())\n",
    "### END STRIP ###"
   ]
  },
  {
   "cell_type": "code",
   "execution_count": null,
   "metadata": {
    "application/vnd.databricks.v1+cell": {
     "inputWidgets": {},
     "nuid": "619935bc-9b31-4d60-a75f-959feb9ef1a0",
     "showTitle": false,
     "title": ""
    },
    "id": "o21-nn2UzM-c",
    "outputId": "9509b1cb-8915-43d6-c13a-e5b549a3134c"
   },
   "outputs": [
    {
     "data": {
      "text/html": [
       "<div>\n",
       "<style scoped>\n",
       "    .dataframe tbody tr th:only-of-type {\n",
       "        vertical-align: middle;\n",
       "    }\n",
       "\n",
       "    .dataframe tbody tr th {\n",
       "        vertical-align: top;\n",
       "    }\n",
       "\n",
       "    .dataframe thead th {\n",
       "        text-align: right;\n",
       "    }\n",
       "</style>\n",
       "<table border=\"1\" class=\"dataframe\">\n",
       "  <thead>\n",
       "    <tr style=\"text-align: right;\">\n",
       "      <th></th>\n",
       "      <th>summary</th>\n",
       "      <th>ids_size</th>\n",
       "    </tr>\n",
       "  </thead>\n",
       "  <tbody>\n",
       "    <tr>\n",
       "      <th>0</th>\n",
       "      <td>count</td>\n",
       "      <td>80352</td>\n",
       "    </tr>\n",
       "    <tr>\n",
       "      <th>1</th>\n",
       "      <td>mean</td>\n",
       "      <td>2.538866487455197</td>\n",
       "    </tr>\n",
       "    <tr>\n",
       "      <th>2</th>\n",
       "      <td>stddev</td>\n",
       "      <td>1.6539289063819822</td>\n",
       "    </tr>\n",
       "    <tr>\n",
       "      <th>3</th>\n",
       "      <td>min</td>\n",
       "      <td>2</td>\n",
       "    </tr>\n",
       "    <tr>\n",
       "      <th>4</th>\n",
       "      <td>max</td>\n",
       "      <td>66</td>\n",
       "    </tr>\n",
       "  </tbody>\n",
       "</table>\n",
       "</div>"
      ]
     },
     "metadata": {
      "application/vnd.databricks.v1+output": {
       "addedWidgets": {},
       "arguments": {},
       "data": "<div>\n<style scoped>\n    .dataframe tbody tr th:only-of-type {\n        vertical-align: middle;\n    }\n\n    .dataframe tbody tr th {\n        vertical-align: top;\n    }\n\n    .dataframe thead th {\n        text-align: right;\n    }\n</style>\n<table border=\"1\" class=\"dataframe\">\n  <thead>\n    <tr style=\"text-align: right;\">\n      <th></th>\n      <th>summary</th>\n      <th>ids_size</th>\n    </tr>\n  </thead>\n  <tbody>\n    <tr>\n      <th>0</th>\n      <td>count</td>\n      <td>80352</td>\n    </tr>\n    <tr>\n      <th>1</th>\n      <td>mean</td>\n      <td>2.538866487455197</td>\n    </tr>\n    <tr>\n      <th>2</th>\n      <td>stddev</td>\n      <td>1.6539289063819822</td>\n    </tr>\n    <tr>\n      <th>3</th>\n      <td>min</td>\n      <td>2</td>\n    </tr>\n    <tr>\n      <th>4</th>\n      <td>max</td>\n      <td>66</td>\n    </tr>\n  </tbody>\n</table>\n</div>",
       "datasetInfos": [],
       "removedWidgets": [],
       "textData": "<div class=\"ansiout\">Out[9]: </div>",
       "type": "htmlSandbox"
      },
      "tags": []
     },
     "output_type": "display_data"
    }
   ],
   "source": [
    "#compute descriptive statistics for duplicates \n",
    "#How many duplicates on average (for duplicated rows)?\n",
    "#And the standard deviation?\n",
    "#What' the min? The max? \n",
    "\n",
    "### BEGIN STRIP ###\n",
    "playlog.groupBy(playlog.columns) \\\n",
    "  .agg(F.collect_list('timestamp').alias('ids')) \\\n",
    "  .select(F.size('ids').alias('ids_size')) \\\n",
    "  .where(F.col('ids_size') > 1) \\\n",
    "  .describe().toPandas()\n",
    "\n",
    "'''Alternative 1 (without the F. syntax)\n",
    "\n",
    "tmp = playlog.groupBy(playlog.columns).count().orderBy('count', ascending=False)\n",
    "tmp.select('count').where(tmp['count']>1).describe().toPandas()\n",
    "\n",
    "Alternative 2 (with SQL)\n",
    "\n",
    "playlog.createOrReplaceTempView('playlog_table')\n",
    "display(spark.sql(\"\"\"WITH subrequest AS \n",
    "                  (SELECT COUNT(timestamp) AS count_tstp, timestamp, user, song\n",
    "                  FROM playlog_table\n",
    "                  GROUP BY timestamp, user, song\n",
    "                  HAVING count_tstp > 1)\n",
    "                  \n",
    "                  SELECT COUNT(count_tstp) AS count, AVG(count_tstp) AS mean, STD(count_tstp) AS stddev, MIN(count_tstp) AS min, MAX(count_tstp) AS max \n",
    "                  FROM subrequest\"\"\"))\n",
    "\n",
    "### END STRIP ###"
   ]
  },
  {
   "cell_type": "code",
   "execution_count": null,
   "metadata": {
    "id": "7p0MRKWpzO0Y"
   },
   "outputs": [],
   "source": [
    "## Alternative 1 (without the F. syntax)\n",
    "\n",
    "#tmp = playlog.groupBy(playlog.columns).count().orderBy('count', ascending=False)\n",
    "#tmp.select('count').where(tmp['count']>1).describe().toPandas()"
   ]
  },
  {
   "cell_type": "markdown",
   "metadata": {
    "application/vnd.databricks.v1+cell": {
     "inputWidgets": {},
     "nuid": "59f60d57-c823-4b3d-8297-8785242445a7",
     "showTitle": false,
     "title": ""
    },
    "id": "jinK-DdCzM-c"
   },
   "source": [
    "### Other checks"
   ]
  },
  {
   "cell_type": "code",
   "execution_count": null,
   "metadata": {
    "application/vnd.databricks.v1+cell": {
     "inputWidgets": {},
     "nuid": "fc374243-01a8-4747-909e-8a8ddcd7335b",
     "showTitle": false,
     "title": ""
    },
    "id": "VkKPb-IKzM-c",
    "outputId": "7566f7c7-93a7-4e7d-d449-daaf162358ca"
   },
   "outputs": [
    {
     "data": {
      "text/html": [
       "<style scoped>\n",
       "  .ansiout {\n",
       "    display: block;\n",
       "    unicode-bidi: embed;\n",
       "    white-space: pre-wrap;\n",
       "    word-wrap: break-word;\n",
       "    word-break: break-all;\n",
       "    font-family: \"Source Code Pro\", \"Menlo\", monospace;;\n",
       "    font-size: 13px;\n",
       "    color: #555;\n",
       "    margin-left: 4px;\n",
       "    line-height: 19px;\n",
       "  }\n",
       "</style>\n",
       "<div class=\"ansiout\">+----------+----+-----------+\n",
       " timestamp|user|       song|\n",
       "+----------+----+-----------+\n",
       "-139955897|   4|nRa-eGzpT6o|\n",
       "1392387533|   0|t1l8Z6gLPzo|\n",
       "1392387537|  70|VJ6ofd0pB_c|\n",
       "1392387537|  22|Q24VZL8wpOM|\n",
       "1392387538|   1|t1l8Z6gLPzo|\n",
       "+----------+----+-----------+\n",
       "only showing top 5 rows\n",
       "\n",
       "</div>"
      ]
     },
     "metadata": {
      "application/vnd.databricks.v1+output": {
       "addedWidgets": {},
       "arguments": {},
       "data": "<div class=\"ansiout\">+----------+----+-----------+\n| timestamp|user|       song|\n+----------+----+-----------+\n|-139955897|   4|nRa-eGzpT6o|\n|1392387533|   0|t1l8Z6gLPzo|\n|1392387537|  70|VJ6ofd0pB_c|\n|1392387537|  22|Q24VZL8wpOM|\n|1392387538|   1|t1l8Z6gLPzo|\n+----------+----+-----------+\nonly showing top 5 rows\n\n</div>",
       "datasetInfos": [],
       "removedWidgets": [],
       "type": "html"
      },
      "tags": []
     },
     "output_type": "display_data"
    }
   ],
   "source": [
    "#order dataframe by ascending `timestamp` and show the first 5 rows\n",
    "### BEGIN STRIP ###\n",
    "playlog.orderBy('timestamp').show(5)\n",
    "### END STRIP ###"
   ]
  },
  {
   "cell_type": "markdown",
   "metadata": {
    "application/vnd.databricks.v1+cell": {
     "inputWidgets": {},
     "nuid": "76fbe953-cb2e-4034-81c3-201e2f8dba86",
     "showTitle": false,
     "title": ""
    },
    "id": "R1oGdKZzzM-d"
   },
   "source": [
    "Do you see anything suspicious?\n",
    "\n",
    "---\n",
    "\n",
    "The first timestamp is negative, and it seems like it's the only one.  \n",
    "We will make sure there aren't other like this."
   ]
  },
  {
   "cell_type": "code",
   "execution_count": null,
   "metadata": {
    "application/vnd.databricks.v1+cell": {
     "inputWidgets": {},
     "nuid": "4719397a-eabd-49a1-be52-1cc41af12822",
     "showTitle": false,
     "title": ""
    },
    "id": "Ec_7OyQSzM-d",
    "outputId": "1e760c6f-23f4-47a7-ad25-52b31f8e1a3b"
   },
   "outputs": [
    {
     "data": {
      "text/html": [
       "<style scoped>\n",
       "  .ansiout {\n",
       "    display: block;\n",
       "    unicode-bidi: embed;\n",
       "    white-space: pre-wrap;\n",
       "    word-wrap: break-word;\n",
       "    word-break: break-all;\n",
       "    font-family: \"Source Code Pro\", \"Menlo\", monospace;;\n",
       "    font-size: 13px;\n",
       "    color: #555;\n",
       "    margin-left: 4px;\n",
       "    line-height: 19px;\n",
       "  }\n",
       "</style>\n",
       "<div class=\"ansiout\">Out[16]: 1</div>"
      ]
     },
     "metadata": {
      "application/vnd.databricks.v1+output": {
       "addedWidgets": {},
       "arguments": {},
       "data": "<div class=\"ansiout\">Out[16]: 1</div>",
       "datasetInfos": [],
       "removedWidgets": [],
       "type": "html"
      },
      "tags": []
     },
     "output_type": "display_data"
    }
   ],
   "source": [
    "#count the number of rows with a negative timestamp\n",
    "### BEGIN STRIP ###\n",
    "playlog.where(playlog['timestamp'] < 0).count()\n",
    "### END STRIP ###"
   ]
  },
  {
   "cell_type": "markdown",
   "metadata": {
    "application/vnd.databricks.v1+cell": {
     "inputWidgets": {},
     "nuid": "4806acbd-0677-4aac-8593-906e8f480a20",
     "showTitle": false,
     "title": ""
    },
    "id": "FjJCUpUXzM-d"
   },
   "source": [
    "As expected, only one such negative timestamp. Since we have only one we can actually `.collect(...)` it."
   ]
  },
  {
   "cell_type": "code",
   "execution_count": null,
   "metadata": {
    "application/vnd.databricks.v1+cell": {
     "inputWidgets": {},
     "nuid": "b5a0e75c-2c47-481a-840c-d91bc9714c98",
     "showTitle": false,
     "title": ""
    },
    "id": "qX33MiLizM-e",
    "outputId": "9a5d1066-e603-44d6-af3d-6a7e722e3b97"
   },
   "outputs": [
    {
     "data": {
      "text/html": [
       "<style scoped>\n",
       "  .ansiout {\n",
       "    display: block;\n",
       "    unicode-bidi: embed;\n",
       "    white-space: pre-wrap;\n",
       "    word-wrap: break-word;\n",
       "    word-break: break-all;\n",
       "    font-family: \"Source Code Pro\", \"Menlo\", monospace;;\n",
       "    font-size: 13px;\n",
       "    color: #555;\n",
       "    margin-left: 4px;\n",
       "    line-height: 19px;\n",
       "  }\n",
       "</style>\n",
       "<div class=\"ansiout\">Out[17]: [Row(timestamp=-139955897, user=4, song=&#39;nRa-eGzpT6o&#39;)]</div>"
      ]
     },
     "metadata": {
      "application/vnd.databricks.v1+output": {
       "addedWidgets": {},
       "arguments": {},
       "data": "<div class=\"ansiout\">Out[17]: [Row(timestamp=-139955897, user=4, song=&#39;nRa-eGzpT6o&#39;)]</div>",
       "datasetInfos": [],
       "removedWidgets": [],
       "type": "html"
      },
      "tags": []
     },
     "output_type": "display_data"
    }
   ],
   "source": [
    "#collect the problematic rows\n",
    "### BEGIN STRIP ###\n",
    "playlog.where(playlog['timestamp'] < 0).collect()\n",
    "### END STRIP ###"
   ]
  },
  {
   "cell_type": "markdown",
   "metadata": {
    "application/vnd.databricks.v1+cell": {
     "inputWidgets": {},
     "nuid": "2d5dd01b-4caf-4492-8a9b-105330ca28f3",
     "showTitle": false,
     "title": ""
    },
    "id": "wYStU2hTzM-e"
   },
   "source": [
    "There's only one problematic value among more than 25M.  This negative timestamp is an error, as such the real value is missing. We could try to reconstruct the real value but that would be a really tedious task, since it's one value over 25M, we will simply remove it."
   ]
  },
  {
   "cell_type": "markdown",
   "metadata": {
    "application/vnd.databricks.v1+cell": {
     "inputWidgets": {},
     "nuid": "12d6aafc-3a5d-49bd-aeb2-6189c8ab885c",
     "showTitle": false,
     "title": ""
    },
    "id": "6mJ2qY0qzM-e"
   },
   "source": [
    "## Removing the row with a negative timestamp"
   ]
  },
  {
   "cell_type": "markdown",
   "metadata": {
    "application/vnd.databricks.v1+cell": {
     "inputWidgets": {},
     "nuid": "1f882157-c51a-4476-b908-c78353eb55e7",
     "showTitle": false,
     "title": ""
    },
    "id": "6q9zzUQozM-f"
   },
   "source": [
    "We will use our new knowledge about the data to perform some preprocessing.  \n",
    "\n",
    "Our pipeline will have 2 steps:\n",
    "1. Remove duplicates (123651 rows)\n",
    "2. Remove row with negative timestamps (1 row)\n",
    "\n",
    "We will call our new DataFrame `playlog_processed` and save it to S3 in parquet format."
   ]
  },
  {
   "cell_type": "code",
   "execution_count": null,
   "metadata": {
    "application/vnd.databricks.v1+cell": {
     "inputWidgets": {},
     "nuid": "ee78487f-e534-4482-bbf0-54453e121df0",
     "showTitle": false,
     "title": ""
    },
    "id": "t8u9UnPPzM-f",
    "outputId": "360f582d-60c7-4798-8f4e-3b2ee7c98655"
   },
   "outputs": [
    {
     "data": {
      "text/html": [
       "<style scoped>\n",
       "  .ansiout {\n",
       "    display: block;\n",
       "    unicode-bidi: embed;\n",
       "    white-space: pre-wrap;\n",
       "    word-wrap: break-word;\n",
       "    word-break: break-all;\n",
       "    font-family: \"Source Code Pro\", \"Menlo\", monospace;;\n",
       "    font-size: 13px;\n",
       "    color: #555;\n",
       "    margin-left: 4px;\n",
       "    line-height: 19px;\n",
       "  }\n",
       "</style>\n",
       "<div class=\"ansiout\">Out[18]: 25615885</div>"
      ]
     },
     "metadata": {
      "application/vnd.databricks.v1+output": {
       "addedWidgets": {},
       "arguments": {},
       "data": "<div class=\"ansiout\">Out[18]: 25615885</div>",
       "datasetInfos": [],
       "removedWidgets": [],
       "type": "html"
      },
      "tags": []
     },
     "output_type": "display_data"
    }
   ],
   "source": [
    "# filter out:\n",
    "#       - duplicated values\n",
    "#       - rows with negative timestamp\n",
    "#       and save the result to a new DataFrame: `playlog_processed`\n",
    "#       Finally, print out the number of rows in this DataFrame\n",
    "### BEGIN STRIP ###\n",
    "playlog_processed = (playlog.dropDuplicates() \\\n",
    "                     .filter(~(playlog.timestamp < 0)))\n",
    "playlog_processed.count()\n",
    "### END STRIP ###"
   ]
  },
  {
   "cell_type": "code",
   "execution_count": null,
   "metadata": {
    "application/vnd.databricks.v1+cell": {
     "inputWidgets": {},
     "nuid": "bcb09275-b251-4f2e-8fc9-fb9e616fce31",
     "showTitle": false,
     "title": ""
    },
    "id": "yOWtp4bqzM-f",
    "outputId": "75de9f63-fea2-4282-d36d-4a748e4b2870"
   },
   "outputs": [
    {
     "data": {
      "text/html": [
       "<style scoped>\n",
       "  .ansiout {\n",
       "    display: block;\n",
       "    unicode-bidi: embed;\n",
       "    white-space: pre-wrap;\n",
       "    word-wrap: break-word;\n",
       "    word-break: break-all;\n",
       "    font-family: \"Source Code Pro\", \"Menlo\", monospace;;\n",
       "    font-size: 13px;\n",
       "    color: #555;\n",
       "    margin-left: 4px;\n",
       "    line-height: 19px;\n",
       "  }\n",
       "</style>\n",
       "<div class=\"ansiout\"></div>"
      ]
     },
     "metadata": {
      "application/vnd.databricks.v1+output": {
       "addedWidgets": {},
       "arguments": {},
       "data": "<div class=\"ansiout\"></div>",
       "datasetInfos": [],
       "removedWidgets": [],
       "type": "html"
      },
      "tags": []
     },
     "output_type": "display_data"
    }
   ],
   "source": [
    "ACCESS_KEY_ID = \"\"# enter your S3 access key\n",
    "SECRET_ACCESS_KEY = \"\" # enter your s3 secret key\n",
    "\n",
    "hadoop_conf = spark._jsc.hadoopConfiguration()\n",
    "hadoop_conf.set(\"fs.s3a.access.key\", ACCESS_KEY_ID)\n",
    "hadoop_conf.set(\"fs.s3a.secret.key\", SECRET_ACCESS_KEY)\n",
    "hadoop_conf.set(\"fs.s3a.impl\",\"org.apache.hadoop.fs.s3a.S3AFileSystem\") \n",
    "\n",
    "### END STRIP ###\n",
    "output_path = 's3://name_of_your_bucket/name_of_your_file.parquet'"
   ]
  },
  {
   "cell_type": "code",
   "execution_count": null,
   "metadata": {
    "application/vnd.databricks.v1+cell": {
     "inputWidgets": {},
     "nuid": "472c6882-2880-457e-9ff0-00df52379bbd",
     "showTitle": false,
     "title": ""
    },
    "id": "2AQSLgjIzM-g",
    "outputId": "7ca48f11-b593-4d18-a6df-debace50c8f1"
   },
   "outputs": [
    {
     "data": {
      "text/html": [
       "<style scoped>\n",
       "  .ansiout {\n",
       "    display: block;\n",
       "    unicode-bidi: embed;\n",
       "    white-space: pre-wrap;\n",
       "    word-wrap: break-word;\n",
       "    word-break: break-all;\n",
       "    font-family: \"Source Code Pro\", \"Menlo\", monospace;;\n",
       "    font-size: 13px;\n",
       "    color: #555;\n",
       "    margin-left: 4px;\n",
       "    line-height: 19px;\n",
       "  }\n",
       "</style>\n",
       "<div class=\"ansiout\"></div>"
      ]
     },
     "metadata": {
      "application/vnd.databricks.v1+output": {
       "addedWidgets": {},
       "arguments": {},
       "data": "<div class=\"ansiout\"></div>",
       "datasetInfos": [],
       "removedWidgets": [],
       "type": "html"
      },
      "tags": []
     },
     "output_type": "display_data"
    }
   ],
   "source": [
    "#save the processed DataFrame to S3 using the parquet format\n",
    "### BEGIN STRIP ###\n",
    "playlog_processed.write \\\n",
    "  .parquet(output_path, mode='overwrite')\n",
    "### END STRIP ###"
   ]
  }
 ],
 "metadata": {
  "application/vnd.databricks.v1+notebook": {
   "dashboards": [],
   "language": "python",
   "notebookName": "04-Preprocessing_with_PySpark_solutions_databricks",
   "notebookOrigID": 4303019958500922,
   "widgets": {}
  },
  "colab": {
   "name": "D01-04-Preprocessing_with_PySpark_solutions_Databricks.ipynb",
   "provenance": []
  },
  "kernelspec": {
   "display_name": "Python 3",
   "language": "python",
   "name": "python3"
  },
  "language_info": {
   "codemirror_mode": {
    "name": "ipython",
    "version": 3
   },
   "file_extension": ".py",
   "mimetype": "text/x-python",
   "name": "python",
   "nbconvert_exporter": "python",
   "pygments_lexer": "ipython3",
   "version": "3.8.5"
  }
 },
 "nbformat": 4,
 "nbformat_minor": 1
}
